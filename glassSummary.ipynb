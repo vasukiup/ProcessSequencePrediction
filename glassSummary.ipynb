{
  "nbformat": 4,
  "nbformat_minor": 0,
  "metadata": {
    "colab": {
      "provenance": [],
      "authorship_tag": "ABX9TyOMsPTKq7pzXBsfJpnZd57n",
      "include_colab_link": true
    },
    "kernelspec": {
      "name": "python3",
      "display_name": "Python 3"
    },
    "language_info": {
      "name": "python"
    }
  },
  "cells": [
    {
      "cell_type": "markdown",
      "metadata": {
        "id": "view-in-github",
        "colab_type": "text"
      },
      "source": [
        "<a href=\"https://colab.research.google.com/github/vasukiup/ProcessSequencePrediction/blob/master/glassSummary.ipynb\" target=\"_parent\"><img src=\"https://colab.research.google.com/assets/colab-badge.svg\" alt=\"Open In Colab\"/></a>"
      ]
    },
    {
      "cell_type": "code",
      "execution_count": 27,
      "metadata": {
        "id": "Y6OwznJmUQkI"
      },
      "outputs": [],
      "source": [
        "import pandas as pd\n",
        "from pandas import DataFrame\n",
        "from pylab import *\n",
        "import matplotlib.pyplot as plot\n",
        "\n",
        "target_url = (\"https://archive.ics.uci.edu/ml/machine-learning-databases/glass/glass.data\")\n",
        "\n",
        "glass = pd.read_csv(target_url, header=None, prefix=\"V\")\n"
      ]
    },
    {
      "cell_type": "code",
      "source": [
        "glass.head()\n",
        "glass.columns = ['Id', 'RI', 'Na', 'Mg', 'Al', 'Si', 'K', 'Ca', 'Ba', 'Fe', 'Type']\n",
        "print (glass.head())\n",
        "# generate statistical summaries\n"
      ],
      "metadata": {
        "colab": {
          "base_uri": "https://localhost:8080/"
        },
        "id": "FI0ZKAtWRtBF",
        "outputId": "0ac1b19a-7862-47b7-937c-ded77b50de48"
      },
      "execution_count": 28,
      "outputs": [
        {
          "output_type": "stream",
          "name": "stdout",
          "text": [
            "   Id       RI     Na    Mg    Al     Si     K    Ca   Ba   Fe  Type\n",
            "0   1  1.52101  13.64  4.49  1.10  71.78  0.06  8.75  0.0  0.0     1\n",
            "1   2  1.51761  13.89  3.60  1.36  72.73  0.48  7.83  0.0  0.0     1\n",
            "2   3  1.51618  13.53  3.55  1.54  72.99  0.39  7.78  0.0  0.0     1\n",
            "3   4  1.51766  13.21  3.69  1.29  72.61  0.57  8.22  0.0  0.0     1\n",
            "4   5  1.51742  13.27  3.62  1.24  73.08  0.55  8.07  0.0  0.0     1\n"
          ]
        }
      ]
    },
    {
      "cell_type": "code",
      "source": [
        "summary = glass.describe()\n",
        "print (summary)"
      ],
      "metadata": {
        "colab": {
          "base_uri": "https://localhost:8080/"
        },
        "id": "QpIaVJUFSi02",
        "outputId": "b1276de9-ac70-4a71-bc22-de328a75e80c"
      },
      "execution_count": 29,
      "outputs": [
        {
          "output_type": "stream",
          "name": "stdout",
          "text": [
            "               Id          RI          Na          Mg          Al          Si  \\\n",
            "count  214.000000  214.000000  214.000000  214.000000  214.000000  214.000000   \n",
            "mean   107.500000    1.518365   13.407850    2.684533    1.444907   72.650935   \n",
            "std     61.920648    0.003037    0.816604    1.442408    0.499270    0.774546   \n",
            "min      1.000000    1.511150   10.730000    0.000000    0.290000   69.810000   \n",
            "25%     54.250000    1.516522   12.907500    2.115000    1.190000   72.280000   \n",
            "50%    107.500000    1.517680   13.300000    3.480000    1.360000   72.790000   \n",
            "75%    160.750000    1.519157   13.825000    3.600000    1.630000   73.087500   \n",
            "max    214.000000    1.533930   17.380000    4.490000    3.500000   75.410000   \n",
            "\n",
            "                K          Ca          Ba          Fe        Type  \n",
            "count  214.000000  214.000000  214.000000  214.000000  214.000000  \n",
            "mean     0.497056    8.956963    0.175047    0.057009    2.780374  \n",
            "std      0.652192    1.423153    0.497219    0.097439    2.103739  \n",
            "min      0.000000    5.430000    0.000000    0.000000    1.000000  \n",
            "25%      0.122500    8.240000    0.000000    0.000000    1.000000  \n",
            "50%      0.555000    8.600000    0.000000    0.000000    2.000000  \n",
            "75%      0.610000    9.172500    0.000000    0.100000    3.000000  \n",
            "max      6.210000   16.190000    3.150000    0.510000    7.000000  \n"
          ]
        }
      ]
    },
    {
      "cell_type": "code",
      "source": [
        "ncol1 = len(glass.columns)\n",
        "glassNormalised = glass.iloc[:, 1:ncol1]\n",
        "ncol2 = len(glassNormalised.columns)\n",
        "summary2 = glassNormalised.describe()"
      ],
      "metadata": {
        "id": "FvXZvoqCS7RR"
      },
      "execution_count": 30,
      "outputs": []
    },
    {
      "cell_type": "code",
      "source": [
        "for i in range(ncol2):\n",
        "  mean = summary2.iloc[1, i]\n",
        "  sd = summary2.iloc[2, i]\n",
        "\n",
        "glassNormalised.iloc[:, i:( i + 1 )] =  \\\n",
        "  (glassNormalised.iloc[:, i:( i + 1 )] - mean) / sd\n",
        "  #print (\"mean is {} and sd is {} \", %mean%, %sd%)'\\\n",
        "\n",
        "array = glassNormalised.values"
      ],
      "metadata": {
        "id": "_K1JvarvUTaL"
      },
      "execution_count": 34,
      "outputs": []
    },
    {
      "cell_type": "code",
      "source": [
        "print (array)\n"
      ],
      "metadata": {
        "colab": {
          "base_uri": "https://localhost:8080/"
        },
        "id": "_m2kn3DOV8Ce",
        "outputId": "bed0a780-7e40-4179-af82-a81be642da29"
      },
      "execution_count": 32,
      "outputs": [
        {
          "output_type": "stream",
          "name": "stdout",
          "text": [
            "[[ 1.52101    13.64        4.49       ...  0.          0.\n",
            "  -0.84629041]\n",
            " [ 1.51761    13.89        3.6        ...  0.          0.\n",
            "  -0.84629041]\n",
            " [ 1.51618    13.53        3.55       ...  0.          0.\n",
            "  -0.84629041]\n",
            " ...\n",
            " [ 1.52065    14.36        0.         ...  1.64        0.\n",
            "   2.0057749 ]\n",
            " [ 1.51651    14.38        0.         ...  1.57        0.\n",
            "   2.0057749 ]\n",
            " [ 1.51711    14.23        0.         ...  1.67        0.\n",
            "   2.0057749 ]]\n"
          ]
        }
      ]
    },
    {
      "cell_type": "code",
      "source": [
        "boxplot(array)\n",
        "plot.xlabel(\"Attribute Index\")\n",
        "plot.ylabel((\"Quartile Ranges - Normalised \"))\n",
        "show()"
      ],
      "metadata": {
        "colab": {
          "base_uri": "https://localhost:8080/",
          "height": 279
        },
        "id": "yqzMuuLeXH-n",
        "outputId": "1d245dce-8dd9-4a71-d9cf-623cf02a64ae"
      },
      "execution_count": 35,
      "outputs": [
        {
          "output_type": "display_data",
          "data": {
            "text/plain": [
              "<Figure size 432x288 with 1 Axes>"
            ],
            "image/png": "[encoded data removed]"
          },
          "metadata": {
            "needs_background": "light"
          }
        }
      ]
    }
  ]
}