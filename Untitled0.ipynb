{
  "nbformat": 4,
  "nbformat_minor": 0,
  "metadata": {
    "colab": {
      "provenance": [],
      "authorship_tag": "ABX9TyPkQjxi2fGUPCeu0dzqFEig",
      "include_colab_link": true
    },
    "kernelspec": {
      "name": "python3",
      "display_name": "Python 3"
    },
    "language_info": {
      "name": "python"
    }
  },
  "cells": [
    {
      "cell_type": "markdown",
      "metadata": {
        "id": "view-in-github",
        "colab_type": "text"
      },
      "source": [
        "<a href=\"https://colab.research.google.com/github/vasukiup/ProcessSequencePrediction/blob/master/Untitled0.ipynb\" target=\"_parent\"><img src=\"https://colab.research.google.com/assets/colab-badge.svg\" alt=\"Open In Colab\"/></a>"
      ]
    },
    {
      "cell_type": "code",
      "execution_count": 2,
      "metadata": {
        "id": "OhfN9FsKZO8J"
      },
      "outputs": [],
      "source": [
        "## this is a test code\n",
        "import sklearn.metrics as metrics\n",
        "import pandas as pd\n",
        "import matplotlib as plt\n",
        "## learn alone\n",
        "## make proper plan\n",
        "## learn collaboratively\n",
        "## "
      ]
    }
  ]
}